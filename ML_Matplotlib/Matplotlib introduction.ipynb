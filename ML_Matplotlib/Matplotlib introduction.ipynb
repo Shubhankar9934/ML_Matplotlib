{
 "cells": [
  {
   "cell_type": "code",
   "execution_count": 1,
   "id": "f1d2146d",
   "metadata": {},
   "outputs": [],
   "source": [
    "# What is Matplotlib?\n",
    "# 1) Matplotlib is 2D and 3D plotting python library.\n",
    "# 2) It produce high quality graph.\n",
    "# 3) It also support animation.\n"
   ]
  },
  {
   "cell_type": "code",
   "execution_count": 2,
   "id": "065c94c3",
   "metadata": {},
   "outputs": [],
   "source": [
    "# Matplotlib Graphs\n",
    "#  1) Histogram \n",
    "#  2) Bar Charts\n",
    "#  3) Scatterplots\n",
    "#  4) Area Plot \n",
    "#  5) pie plot\n",
    "#  6) Error Charts\n",
    "#  7) Power Spectra"
   ]
  },
  {
   "cell_type": "code",
   "execution_count": 4,
   "id": "ebe2b011",
   "metadata": {},
   "outputs": [],
   "source": [
    "# Dependency\n",
    "#  1)Numpy\n",
    "#  2)Pandas\n",
    " "
   ]
  },
  {
   "cell_type": "code",
   "execution_count": 5,
   "id": "c33fbe52",
   "metadata": {},
   "outputs": [],
   "source": [
    "#  ways to import matplotlib\n",
    "#     from matplotlib import pyplot as plt\n",
    "#               or\n",
    "#         import matplotlib.pyplot as plt"
   ]
  },
  {
   "cell_type": "code",
   "execution_count": null,
   "id": "d591cc38",
   "metadata": {},
   "outputs": [],
   "source": []
  }
 ],
 "metadata": {
  "kernelspec": {
   "display_name": "Python 3 (ipykernel)",
   "language": "python",
   "name": "python3"
  },
  "language_info": {
   "codemirror_mode": {
    "name": "ipython",
    "version": 3
   },
   "file_extension": ".py",
   "mimetype": "text/x-python",
   "name": "python",
   "nbconvert_exporter": "python",
   "pygments_lexer": "ipython3",
   "version": "3.10.2"
  }
 },
 "nbformat": 4,
 "nbformat_minor": 5
}
